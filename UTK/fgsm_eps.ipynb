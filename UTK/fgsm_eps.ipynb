{
 "cells": [
  {
   "cell_type": "code",
   "execution_count": 1,
   "metadata": {},
   "outputs": [
    {
     "name": "stderr",
     "output_type": "stream",
     "text": [
      "Using TensorFlow backend.\n"
     ]
    }
   ],
   "source": [
    "import tensorflow as tf\n",
    "from keras.utils import np_utils\n",
    "from keras.models import load_model\n",
    "import keras.backend as K\n",
    "import random \n",
    "import numpy as np\n",
    "import pandas as pd\n",
    "\n",
    "from preprocessor import _imread as imread\n",
    "from preprocessor import _imresize as imresize\n",
    "from matplotlib import pyplot as plt\n",
    "from keras.losses import categorical_crossentropy\n",
    "import argparse\n",
    "import glob\n",
    "import os\n",
    "\n",
    "from keras.utils import to_categorical\n",
    "from PIL import Image\n"
   ]
  },
  {
   "cell_type": "code",
   "execution_count": 2,
   "metadata": {},
   "outputs": [
    {
     "data": {
      "text/plain": [
       "({0: 'male', 1: 'female'},\n",
       " {'female': 1, 'male': 0},\n",
       " {0: 'white', 1: 'black', 2: 'asian', 3: 'indian', 4: 'others'},\n",
       " {'asian': 2, 'black': 1, 'indian': 3, 'others': 4, 'white': 0})"
      ]
     },
     "execution_count": 2,
     "metadata": {},
     "output_type": "execute_result"
    }
   ],
   "source": [
    "DATA_DIR = \"data/UTKFace\"\n",
    "TRAIN_TEST_SPLIT = 0.7\n",
    "IM_WIDTH = IM_HEIGHT = 198\n",
    "input_shape = (IM_WIDTH, IM_HEIGHT, 3)\n",
    "ID_GENDER_MAP = {0: 'male', 1: 'female'}\n",
    "GENDER_ID_MAP = dict((g, i) for i, g in ID_GENDER_MAP.items())\n",
    "ID_RACE_MAP = {0: 'white', 1: 'black', 2: 'asian', 3: 'indian', 4: 'others'}\n",
    "RACE_ID_MAP = dict((r, i) for i, r in ID_RACE_MAP.items())\n",
    "\n",
    "ID_GENDER_MAP, GENDER_ID_MAP, ID_RACE_MAP, RACE_ID_MAP"
   ]
  },
  {
   "cell_type": "code",
   "execution_count": 3,
   "metadata": {},
   "outputs": [],
   "source": [
    "def parse_filepath(filepath):\n",
    "    try:\n",
    "        path, filename = os.path.split(filepath)\n",
    "        filename, ext = os.path.splitext(filename)\n",
    "        age, gender, race, _ = filename.split(\"_\")\n",
    "        return int(age), ID_GENDER_MAP[int(gender)], ID_RACE_MAP[int(race)]\n",
    "    except Exception as e:\n",
    "        print(filepath)\n",
    "        return None, None, None"
   ]
  },
  {
   "cell_type": "code",
   "execution_count": 4,
   "metadata": {},
   "outputs": [
    {
     "name": "stdout",
     "output_type": "stream",
     "text": [
      "data/UTKFace/61_1_20170109142408075.jpg.chip.jpg\n",
      "data/UTKFace/39_1_20170116174525125.jpg.chip.jpg\n",
      "data/UTKFace/61_1_20170109150557335.jpg.chip.jpg\n"
     ]
    }
   ],
   "source": [
    "# create a pandas data frame of images, age, gender and race\n",
    "files = glob.glob(os.path.join(DATA_DIR, \"*.jpg\"))\n",
    "attributes = list(map(parse_filepath, files))"
   ]
  },
  {
   "cell_type": "code",
   "execution_count": 5,
   "metadata": {},
   "outputs": [
    {
     "data": {
      "text/html": [
       "<div>\n",
       "<style scoped>\n",
       "    .dataframe tbody tr th:only-of-type {\n",
       "        vertical-align: middle;\n",
       "    }\n",
       "\n",
       "    .dataframe tbody tr th {\n",
       "        vertical-align: top;\n",
       "    }\n",
       "\n",
       "    .dataframe thead th {\n",
       "        text-align: right;\n",
       "    }\n",
       "</style>\n",
       "<table border=\"1\" class=\"dataframe\">\n",
       "  <thead>\n",
       "    <tr style=\"text-align: right;\">\n",
       "      <th></th>\n",
       "      <th>age</th>\n",
       "      <th>gender</th>\n",
       "      <th>race</th>\n",
       "      <th>file</th>\n",
       "    </tr>\n",
       "  </thead>\n",
       "  <tbody>\n",
       "    <tr>\n",
       "      <th>0</th>\n",
       "      <td>28.0</td>\n",
       "      <td>female</td>\n",
       "      <td>white</td>\n",
       "      <td>data/UTKFace/28_1_0_20170116164219746.jpg.chip...</td>\n",
       "    </tr>\n",
       "    <tr>\n",
       "      <th>1</th>\n",
       "      <td>24.0</td>\n",
       "      <td>female</td>\n",
       "      <td>white</td>\n",
       "      <td>data/UTKFace/24_1_0_20170117150731090.jpg.chip...</td>\n",
       "    </tr>\n",
       "    <tr>\n",
       "      <th>3</th>\n",
       "      <td>24.0</td>\n",
       "      <td>female</td>\n",
       "      <td>black</td>\n",
       "      <td>data/UTKFace/24_1_1_20170113003752421.jpg.chip...</td>\n",
       "    </tr>\n",
       "    <tr>\n",
       "      <th>4</th>\n",
       "      <td>26.0</td>\n",
       "      <td>female</td>\n",
       "      <td>indian</td>\n",
       "      <td>data/UTKFace/26_1_3_20170104235148954.jpg.chip...</td>\n",
       "    </tr>\n",
       "    <tr>\n",
       "      <th>5</th>\n",
       "      <td>51.0</td>\n",
       "      <td>male</td>\n",
       "      <td>white</td>\n",
       "      <td>data/UTKFace/51_0_0_20170117190825002.jpg.chip...</td>\n",
       "    </tr>\n",
       "  </tbody>\n",
       "</table>\n",
       "</div>"
      ],
      "text/plain": [
       "    age  gender    race                                               file\n",
       "0  28.0  female   white  data/UTKFace/28_1_0_20170116164219746.jpg.chip...\n",
       "1  24.0  female   white  data/UTKFace/24_1_0_20170117150731090.jpg.chip...\n",
       "3  24.0  female   black  data/UTKFace/24_1_1_20170113003752421.jpg.chip...\n",
       "4  26.0  female  indian  data/UTKFace/26_1_3_20170104235148954.jpg.chip...\n",
       "5  51.0    male   white  data/UTKFace/51_0_0_20170117190825002.jpg.chip..."
      ]
     },
     "execution_count": 5,
     "metadata": {},
     "output_type": "execute_result"
    }
   ],
   "source": [
    "df = pd.DataFrame(attributes)\n",
    "df['file'] = files\n",
    "df.columns = ['age', 'gender', 'race', 'file']\n",
    "df = df.dropna()\n",
    "df = df[(df['age'] > 10) & (df['age'] < 65)]\n",
    "df.head()"
   ]
  },
  {
   "cell_type": "code",
   "execution_count": 6,
   "metadata": {},
   "outputs": [],
   "source": [
    "def preprocess_image(image, input_shape):\n",
    "    image = imresize(image, input_shape[:2])\n",
    "    image = image.astype('float32')\n",
    "    image = image/255.0\n",
    "    image = np.expand_dims(image, axis=0)\n",
    "    return image\n",
    "\n",
    "def predict(model, image):\n",
    "    predictions = model.predict(image)\n",
    "    return predictions\n",
    "\n",
    "def FGSM(x, model, race_label, gender_label, alpha_1, alpha_2):\n",
    "    sess = K.get_session()\n",
    "    x_adv1 = x\n",
    "    x_adv2 = x\n",
    "    x_adv3 = x\n",
    "    x_adv4 = x\n",
    "    x_adv5 = x\n",
    "    #alpha_1 = 1.\n",
    "    #alpha_2 = -1.\n",
    "    #print(list(map(lambda x: x.name, model.layers)))\n",
    "    # dense7 -> layer before race output\n",
    "    # dense8 -> layer before gender output\n",
    "    # dense_7 = model.get_layer('dense_7').output\n",
    "    # dense_7_grads = K.gradients(dense_7, model.input)\n",
    "\n",
    "    # dense_8 = model.get_layer('dense_8').output\n",
    "    # dense_8_grads = K.gradients(dense_8, model.input)\n",
    "\n",
    "    # final_grads = tf.constant(alpha_1) * dense_7_grads + tf.constant(alpha_2) * dense_8_grads\n",
    "    # grads = K.gradients(final_grads, model.input)\n",
    "    \n",
    "    # delta = K.sign(final_grads[0])\n",
    "    \n",
    "    race_output = model.get_layer('race_output').output\n",
    "    print(\"race_output {}\".format(race_output))\n",
    "    gender_output = model.get_layer('gender_output').output\n",
    "    print(\"gender_output {}\".format(gender_output))\n",
    "\n",
    "    race_loss = K.sum(categorical_crossentropy(race_label, race_output))\n",
    "    gender_loss = K.sum(categorical_crossentropy(gender_label, gender_output))\n",
    "    \n",
    "    #race_loss_val, gender_loss_val = sess.run([race_loss, gender_loss], feed_dict={model.input: x})\n",
    "    #print(race_loss_val, gender_loss_val)\n",
    "\n",
    "    loss = alpha_1 * race_loss + alpha_2 * gender_loss\n",
    "    grads = K.gradients(loss, model.input)\n",
    "    delta = K.sign(grads[0])\n",
    "\n",
    "    x_adv1 = x_adv1 + 0.1 * delta\n",
    "    x_adv2 = x_adv2 + 0.2 * delta\n",
    "    x_adv3 = x_adv3 + 0.3 * delta\n",
    "    x_adv4 = x_adv4 + 0.4 * delta\n",
    "    x_adv5 = x_adv5 + 0.5 * delta\n",
    "\n",
    "    x_adv1 = K.clip(x_adv1, 0.0 ,1.0)\n",
    "    x_adv2 = K.clip(x_adv2, 0.0 ,1.0)\n",
    "    x_adv3 = K.clip(x_adv3, 0.0 ,1.0)\n",
    "    x_adv4 = K.clip(x_adv4, 0.0 ,1.0)\n",
    "    x_adv5 = K.clip(x_adv5, 0.0 ,1.0)\n",
    "\n",
    "    gradients, x_adv1_array, x_adv2_array, x_adv3_array, x_adv4_array, x_adv5_array = sess.run([grads,\n",
    "                                                                                                x_adv1,\n",
    "                                                                                                x_adv2,\n",
    "                                                                                                x_adv3,\n",
    "                                                                                                x_adv4,\n",
    "                                                                                                x_adv5],\n",
    "                                                                                                feed_dict={model.input:x})\n",
    "    #print('GRADIENT SUM:{}'.format(np.sum(gradients[0])))\n",
    "    return x_adv1_array, x_adv2_array, x_adv3_array, x_adv4_array, x_adv5_array\n",
    "\n",
    "def plot_adversarial(img_list):\n",
    "    plt.figure(figsize=(8,8))\n",
    "    eps = [0, 0.1, 0.2, 0.3, 0.4, 0.5]\n",
    "    for n, img in enumerate(img_list):\n",
    "        ax = plt.subplot(2,3,n+1)\n",
    "        ax.set_title('Epsilon: {}'.format(eps[n]))\n",
    "        plt.imshow(img[0])\n",
    "        plt.grid(False)\n",
    "        plt.xticks([])\n",
    "        plt.yticks([])\n",
    "    plt.show()"
   ]
  },
  {
   "cell_type": "code",
   "execution_count": 7,
   "metadata": {},
   "outputs": [],
   "source": [
    "sess = K.get_session()"
   ]
  },
  {
   "cell_type": "code",
   "execution_count": 8,
   "metadata": {},
   "outputs": [],
   "source": [
    "def PGD(x, race_label, gender_label, alpha_1, alpha_2, eps, steps):\n",
    "    x_adv = model.input\n",
    "    race_output = model.get_layer('race_output').output\n",
    "    gender_output = model.get_layer('gender_output').output\n",
    "\n",
    "    race_loss = K.sum(categorical_crossentropy(race_label, race_output))\n",
    "    gender_loss = K.sum(categorical_crossentropy(gender_label, gender_output))\n",
    "\n",
    "    loss = alpha_1 * race_loss + alpha_2 * gender_loss\n",
    "    grads = K.gradients(loss, model.input)\n",
    "    delta = K.sign(grads[0])\n",
    "\n",
    "    x_adv = x_adv + eps * delta\n",
    "    x_adv = K.clip(x_adv, 0.0, 1.0)\n",
    "\n",
    "    for step in range(steps):\n",
    "        # predictions = predict(model, x)\n",
    "        # print(predictions)\n",
    "        # print(x.shape)\n",
    "        x_adv_array = sess.run([x_adv], feed_dict={model.input: x})\n",
    "        # print(x_adv_array[0].shape)\n",
    "        x = x_adv_array[0]\n",
    "        #break\n",
    "    return x_adv_array[0]"
   ]
  },
  {
   "cell_type": "code",
   "execution_count": 34,
   "metadata": {},
   "outputs": [],
   "source": [
    "adv_model_path = \"./models/VGG16_adv_model.h5\"\n",
    "clean_model_path = \"./models/weighted_forked_VGG_model.h5\""
   ]
  },
  {
   "cell_type": "code",
   "execution_count": null,
   "metadata": {},
   "outputs": [],
   "source": [
    "def get_adv_samples(x, model):\n",
    "    adv_sample = FGSM(x, model)"
   ]
  },
  {
   "cell_type": "code",
   "execution_count": 36,
   "metadata": {},
   "outputs": [],
   "source": [
    "def save_all_adv_samples(generator, eps):\n",
    "    folder = \"adv_generated_imgs_pgd\"\n",
    "    for data in generator:\n",
    "        samples, labels, filenames = data\n",
    "        race_one_hot, gender_one_hot = labels[1], labels[2]\n",
    "        # running loop over a batch\n",
    "        # prediction = predict(model, samples)\n",
    "\n",
    "        adv_samples = PGD(samples, race_label=race_one_hot, gender_label=gender_one_hot,\n",
    "                          alpha_1=0.1, alpha_2=-1., eps=eps, steps=20)\n",
    "        for index in range(len(adv_samples)):\n",
    "            filename = filenames[index]\n",
    "            final_name = \"{}/{}/{}/{}\".format(filename.split(\"/\")[0], folder, eps, filename.split(\"/\")[-1])\n",
    "            img = Image.fromarray(np.uint8(adv_samples[index]*255))\n",
    "            img.save(final_name)\n",
    "            \n",
    "            \"\"\"final_name = \"{}/{}/{}/{}\".format(filename.split(\"/\")[0], folder, \"1\", filename.split(\"/\")[-1])\n",
    "            img = Image.fromarray(np.uint8(adv_samples[0][index]*255))\n",
    "            img.save(final_name)\n",
    "\n",
    "            final_name = \"{}/{}/{}/{}\".format(filename.split(\"/\")[0], folder, \"2\", filename.split(\"/\")[-1])\n",
    "            img = Image.fromarray(np.uint8(adv_samples[1][index]*255))\n",
    "            img.save(final_name)\n",
    "\n",
    "            final_name = \"{}/{}/{}/{}\".format(filename.split(\"/\")[0], folder, \"3\", filename.split(\"/\")[-1])\n",
    "            img = Image.fromarray(np.uint8(adv_samples[2][index]*255))\n",
    "            img.save(final_name)\n",
    "\n",
    "            final_name = \"{}/{}/{}/{}\".format(filename.split(\"/\")[0], folder, \"4\", filename.split(\"/\")[-1])\n",
    "            img = Image.fromarray(np.uint8(adv_samples[3][index]*255))\n",
    "            img.save(final_name)\n",
    "\n",
    "            final_name = \"{}/{}/{}/{}\".format(filename.split(\"/\")[0], folder, \"5\", filename.split(\"/\")[-1])\n",
    "            img = Image.fromarray(np.uint8(adv_samples[4][index]*255))\n",
    "            img.save(final_name)\"\"\"\n",
    "    return"
   ]
  },
  {
   "cell_type": "code",
   "execution_count": 40,
   "metadata": {},
   "outputs": [],
   "source": [
    "from keras.utils import to_categorical\n",
    "from PIL import Image\n",
    "\n",
    "def get_data_generator(df, indices, for_training, batch_size=16):\n",
    "    # filenames variable is not being passed right now for the evaluation but would be\n",
    "    # required if we want to generate the dataset of adversarial images\n",
    "    images, ages, races, genders, filenames = [], [], [], [], []\n",
    "    while True:\n",
    "        for i in indices:\n",
    "            r = df.iloc[i]\n",
    "            file, age, race, gender = r['file'], r['age'], r['race_id'], r['gender_id']\n",
    "            im = Image.open(file)\n",
    "            im = im.resize((IM_WIDTH, IM_HEIGHT))\n",
    "            im = np.array(im) / 255.0\n",
    "            filenames.append(file)\n",
    "            images.append(im)\n",
    "            ages.append(age / max_age)\n",
    "            races.append(to_categorical(race, len(RACE_ID_MAP)))\n",
    "            genders.append(to_categorical(gender, 2))\n",
    "            if len(images) >= batch_size:\n",
    "                yield np.array(images), [np.array(ages), np.array(races), np.array(genders)], filenames\n",
    "                images, ages, races, genders, filenames = [], [], [], [], []\n",
    "        if not for_training:\n",
    "            break"
   ]
  },
  {
   "cell_type": "code",
   "execution_count": 12,
   "metadata": {},
   "outputs": [],
   "source": [
    "# random seed is not common with model training on the other notebook\n",
    "p = np.random.permutation(len(df))\n",
    "train_up_to = int(len(df) * TRAIN_TEST_SPLIT)\n",
    "test_idx = p[train_up_to:]\n",
    "\n",
    "df['gender_id'] = df['gender'].map(lambda gender: GENDER_ID_MAP[gender])\n",
    "df['race_id'] = df['race'].map(lambda race: RACE_ID_MAP[race])\n",
    "\n",
    "max_age = df['age'].max()"
   ]
  },
  {
   "cell_type": "code",
   "execution_count": 41,
   "metadata": {},
   "outputs": [],
   "source": [
    "test_gen = get_data_generator(df, test_idx, for_training=False, batch_size=128)"
   ]
  },
  {
   "cell_type": "code",
   "execution_count": 38,
   "metadata": {},
   "outputs": [],
   "source": [
    "model = load_model(clean_model_path)"
   ]
  },
  {
   "cell_type": "code",
   "execution_count": 14,
   "metadata": {},
   "outputs": [],
   "source": [
    "def random_image(sample_num=None):\n",
    "    if sample_num is None:\n",
    "        random_record = df.sample().iloc[0]\n",
    "    else:\n",
    "        random_record = df.iloc[sample_num]\n",
    "    \n",
    "    img_path = random_record['file']\n",
    "    image = imread(img_path)\n",
    "    image = preprocess_image(image, input_shape)\n",
    "\n",
    "    race_label = random_record['race_id']\n",
    "    gender_label = random_record['gender_id']\n",
    "\n",
    "    race_one_hot = np_utils.to_categorical(race_label, len(ID_RACE_MAP))\n",
    "    gender_one_hot = np_utils.to_categorical(gender_label, len(ID_GENDER_MAP))\n",
    "\n",
    "    return image, gender_one_hot, race_one_hot"
   ]
  },
  {
   "cell_type": "code",
   "execution_count": 85,
   "metadata": {},
   "outputs": [],
   "source": [
    "def perturbed_random_image(eps, index, sample_num=None):\n",
    "    #index = np.random.choice(indices)\n",
    "    #if sample_num is None:\n",
    "    #    random_record = df.sample().iloc[0]\n",
    "    #else:\n",
    "    random_record = df.iloc[index]\n",
    "\n",
    "    file = random_record['file']\n",
    "    folder = \"adv_generated_imgs_pgd\"\n",
    "    filename = \"./{}/{}/{}/{}\".format(file.split(\"/\")[0], folder, str(eps), file.split(\"/\")[-1])\n",
    "\n",
    "    image = imread(filename)\n",
    "    image = preprocess_image(image, input_shape)\n",
    "\n",
    "    race_label = random_record['race_id']\n",
    "    gender_label = random_record['gender_id']\n",
    "\n",
    "    race_one_hot = np_utils.to_categorical(race_label, len(ID_RACE_MAP))\n",
    "    gender_one_hot = np_utils.to_categorical(gender_label, len(ID_GENDER_MAP))\n",
    "\n",
    "    return image, gender_one_hot, race_one_hot"
   ]
  },
  {
   "cell_type": "code",
   "execution_count": null,
   "metadata": {},
   "outputs": [],
   "source": [
    "image, gender_one_hot, race_one_hot = random_image(114)\n",
    "\n",
    "predictions = predict(model, image)\n",
    "\n",
    "images = FGSM(image, model, race_one_hot, gender_one_hot, alpha_1 = 1., alpha_2 = 0.)\n",
    "\n",
    "plot_adversarial(images)"
   ]
  },
  {
   "cell_type": "code",
   "execution_count": 90,
   "metadata": {},
   "outputs": [
    {
     "ename": "KeyboardInterrupt",
     "evalue": "",
     "output_type": "error",
     "traceback": [
      "\u001b[0;31m---------------------------------------------------------------------------\u001b[0m",
      "\u001b[0;31mKeyboardInterrupt\u001b[0m                         Traceback (most recent call last)",
      "\u001b[0;32m<ipython-input-90-fd590de5588b>\u001b[0m in \u001b[0;36m<module>\u001b[0;34m()\u001b[0m\n\u001b[1;32m      8\u001b[0m     \u001b[0;31m# images = FGSM(image, model, race_one_hot, gender_one_hot, alpha_1 = 10., alpha_2 = -10.)\u001b[0m\u001b[0;34m\u001b[0m\u001b[0;34m\u001b[0m\u001b[0;34m\u001b[0m\u001b[0m\n\u001b[1;32m      9\u001b[0m     \u001b[0;31m# image = PGD(image, race_one_hot, gender_one_hot, alpha_1 = 1., alpha_2 = -1., eps=0.1, steps=20)\u001b[0m\u001b[0;34m\u001b[0m\u001b[0;34m\u001b[0m\u001b[0;34m\u001b[0m\u001b[0m\n\u001b[0;32m---> 10\u001b[0;31m     \u001b[0mout\u001b[0m \u001b[0;34m=\u001b[0m \u001b[0mmodel\u001b[0m\u001b[0;34m.\u001b[0m\u001b[0mpredict\u001b[0m\u001b[0;34m(\u001b[0m\u001b[0mimage\u001b[0m\u001b[0;34m)\u001b[0m\u001b[0;34m\u001b[0m\u001b[0;34m\u001b[0m\u001b[0m\n\u001b[0m\u001b[1;32m     11\u001b[0m     \u001b[0;31m#print(out[1], out[2])\u001b[0m\u001b[0;34m\u001b[0m\u001b[0;34m\u001b[0m\u001b[0;34m\u001b[0m\u001b[0m\n\u001b[1;32m     12\u001b[0m     \u001b[0;31m#print(predi)\u001b[0m\u001b[0;34m\u001b[0m\u001b[0;34m\u001b[0m\u001b[0;34m\u001b[0m\u001b[0m\n",
      "\u001b[0;32m/usr/local/lib/python2.7/dist-packages/keras/engine/training.pyc\u001b[0m in \u001b[0;36mpredict\u001b[0;34m(self, x, batch_size, verbose, steps, callbacks, max_queue_size, workers, use_multiprocessing)\u001b[0m\n\u001b[1;32m   1460\u001b[0m                                             \u001b[0mverbose\u001b[0m\u001b[0;34m=\u001b[0m\u001b[0mverbose\u001b[0m\u001b[0;34m,\u001b[0m\u001b[0;34m\u001b[0m\u001b[0;34m\u001b[0m\u001b[0m\n\u001b[1;32m   1461\u001b[0m                                             \u001b[0msteps\u001b[0m\u001b[0;34m=\u001b[0m\u001b[0msteps\u001b[0m\u001b[0;34m,\u001b[0m\u001b[0;34m\u001b[0m\u001b[0;34m\u001b[0m\u001b[0m\n\u001b[0;32m-> 1462\u001b[0;31m                                             callbacks=callbacks)\n\u001b[0m\u001b[1;32m   1463\u001b[0m \u001b[0;34m\u001b[0m\u001b[0m\n\u001b[1;32m   1464\u001b[0m     def train_on_batch(self, x, y,\n",
      "\u001b[0;32m/usr/local/lib/python2.7/dist-packages/keras/engine/training_arrays.pyc\u001b[0m in \u001b[0;36mpredict_loop\u001b[0;34m(model, f, ins, batch_size, verbose, steps, callbacks)\u001b[0m\n\u001b[1;32m    322\u001b[0m             \u001b[0mbatch_logs\u001b[0m \u001b[0;34m=\u001b[0m \u001b[0;34m{\u001b[0m\u001b[0;34m'batch'\u001b[0m\u001b[0;34m:\u001b[0m \u001b[0mbatch_index\u001b[0m\u001b[0;34m,\u001b[0m \u001b[0;34m'size'\u001b[0m\u001b[0;34m:\u001b[0m \u001b[0mlen\u001b[0m\u001b[0;34m(\u001b[0m\u001b[0mbatch_ids\u001b[0m\u001b[0;34m)\u001b[0m\u001b[0;34m}\u001b[0m\u001b[0;34m\u001b[0m\u001b[0;34m\u001b[0m\u001b[0m\n\u001b[1;32m    323\u001b[0m             \u001b[0mcallbacks\u001b[0m\u001b[0;34m.\u001b[0m\u001b[0m_call_batch_hook\u001b[0m\u001b[0;34m(\u001b[0m\u001b[0;34m'predict'\u001b[0m\u001b[0;34m,\u001b[0m \u001b[0;34m'begin'\u001b[0m\u001b[0;34m,\u001b[0m \u001b[0mbatch_index\u001b[0m\u001b[0;34m,\u001b[0m \u001b[0mbatch_logs\u001b[0m\u001b[0;34m)\u001b[0m\u001b[0;34m\u001b[0m\u001b[0;34m\u001b[0m\u001b[0m\n\u001b[0;32m--> 324\u001b[0;31m             \u001b[0mbatch_outs\u001b[0m \u001b[0;34m=\u001b[0m \u001b[0mf\u001b[0m\u001b[0;34m(\u001b[0m\u001b[0mins_batch\u001b[0m\u001b[0;34m)\u001b[0m\u001b[0;34m\u001b[0m\u001b[0;34m\u001b[0m\u001b[0m\n\u001b[0m\u001b[1;32m    325\u001b[0m             \u001b[0mbatch_outs\u001b[0m \u001b[0;34m=\u001b[0m \u001b[0mto_list\u001b[0m\u001b[0;34m(\u001b[0m\u001b[0mbatch_outs\u001b[0m\u001b[0;34m)\u001b[0m\u001b[0;34m\u001b[0m\u001b[0;34m\u001b[0m\u001b[0m\n\u001b[1;32m    326\u001b[0m             \u001b[0;32mif\u001b[0m \u001b[0mbatch_index\u001b[0m \u001b[0;34m==\u001b[0m \u001b[0;36m0\u001b[0m\u001b[0;34m:\u001b[0m\u001b[0;34m\u001b[0m\u001b[0;34m\u001b[0m\u001b[0m\n",
      "\u001b[0;32m/usr/local/lib/python2.7/dist-packages/tensorflow/python/keras/backend.pyc\u001b[0m in \u001b[0;36m__call__\u001b[0;34m(self, inputs)\u001b[0m\n\u001b[1;32m   3290\u001b[0m \u001b[0;34m\u001b[0m\u001b[0m\n\u001b[1;32m   3291\u001b[0m     fetched = self._callable_fn(*array_vals,\n\u001b[0;32m-> 3292\u001b[0;31m                                 run_metadata=self.run_metadata)\n\u001b[0m\u001b[1;32m   3293\u001b[0m     \u001b[0mself\u001b[0m\u001b[0;34m.\u001b[0m\u001b[0m_call_fetch_callbacks\u001b[0m\u001b[0;34m(\u001b[0m\u001b[0mfetched\u001b[0m\u001b[0;34m[\u001b[0m\u001b[0;34m-\u001b[0m\u001b[0mlen\u001b[0m\u001b[0;34m(\u001b[0m\u001b[0mself\u001b[0m\u001b[0;34m.\u001b[0m\u001b[0m_fetches\u001b[0m\u001b[0;34m)\u001b[0m\u001b[0;34m:\u001b[0m\u001b[0;34m]\u001b[0m\u001b[0;34m)\u001b[0m\u001b[0;34m\u001b[0m\u001b[0;34m\u001b[0m\u001b[0m\n\u001b[1;32m   3294\u001b[0m     output_structure = nest.pack_sequence_as(\n",
      "\u001b[0;32m/usr/local/lib/python2.7/dist-packages/tensorflow/python/client/session.pyc\u001b[0m in \u001b[0;36m__call__\u001b[0;34m(self, *args, **kwargs)\u001b[0m\n\u001b[1;32m   1456\u001b[0m         ret = tf_session.TF_SessionRunCallable(self._session._session,\n\u001b[1;32m   1457\u001b[0m                                                \u001b[0mself\u001b[0m\u001b[0;34m.\u001b[0m\u001b[0m_handle\u001b[0m\u001b[0;34m,\u001b[0m \u001b[0margs\u001b[0m\u001b[0;34m,\u001b[0m\u001b[0;34m\u001b[0m\u001b[0;34m\u001b[0m\u001b[0m\n\u001b[0;32m-> 1458\u001b[0;31m                                                run_metadata_ptr)\n\u001b[0m\u001b[1;32m   1459\u001b[0m         \u001b[0;32mif\u001b[0m \u001b[0mrun_metadata\u001b[0m\u001b[0;34m:\u001b[0m\u001b[0;34m\u001b[0m\u001b[0;34m\u001b[0m\u001b[0m\n\u001b[1;32m   1460\u001b[0m           \u001b[0mproto_data\u001b[0m \u001b[0;34m=\u001b[0m \u001b[0mtf_session\u001b[0m\u001b[0;34m.\u001b[0m\u001b[0mTF_GetBuffer\u001b[0m\u001b[0;34m(\u001b[0m\u001b[0mrun_metadata_ptr\u001b[0m\u001b[0;34m)\u001b[0m\u001b[0;34m\u001b[0m\u001b[0;34m\u001b[0m\u001b[0m\n",
      "\u001b[0;31mKeyboardInterrupt\u001b[0m: "
     ]
    }
   ],
   "source": [
    "race = [0,0,0,0]\n",
    "gender = [0,0]\n",
    "for idx in test_idx:\n",
    "    image, gender_one_hot, race_one_hot = perturbed_random_image(0.2, idx)\n",
    "\n",
    "    #predictions = predict(model, image)\n",
    "    \n",
    "    # images = FGSM(image, model, race_one_hot, gender_one_hot, alpha_1 = 10., alpha_2 = -10.)\n",
    "    # image = PGD(image, race_one_hot, gender_one_hot, alpha_1 = 1., alpha_2 = -1., eps=0.1, steps=20)\n",
    "    out = model.predict(image)\n",
    "    #print(out[1], out[2])\n",
    "    #print(predi)\n",
    "    #plot_adversarial(image)\n",
    "    race[np.argmax(out[1])] += 1\n",
    "    gender[np.argmax(out[2])] += 1"
   ]
  },
  {
   "cell_type": "code",
   "execution_count": 91,
   "metadata": {},
   "outputs": [
    {
     "data": {
      "text/plain": [
       "[<matplotlib.lines.Line2D at 0x7fdfde776150>]"
      ]
     },
     "execution_count": 91,
     "metadata": {},
     "output_type": "execute_result"
    },
    {
     "data": {
      "image/png": "[encoded data removed]",
      "text/plain": [
       "<Figure size 432x288 with 1 Axes>"
      ]
     },
     "metadata": {
      "needs_background": "light"
     },
     "output_type": "display_data"
    }
   ],
   "source": [
    "plt.plot(race)"
   ]
  },
  {
   "cell_type": "code",
   "execution_count": 92,
   "metadata": {},
   "outputs": [
    {
     "data": {
      "text/plain": [
       "[<matplotlib.lines.Line2D at 0x7fdfde660710>]"
      ]
     },
     "execution_count": 92,
     "metadata": {},
     "output_type": "execute_result"
    },
    {
     "data": {
      "image/png": "[encoded data removed]",
      "text/plain": [
       "<Figure size 432x288 with 1 Axes>"
      ]
     },
     "metadata": {
      "needs_background": "light"
     },
     "output_type": "display_data"
    }
   ],
   "source": [
    "plt.plot(gender)"
   ]
  },
  {
   "cell_type": "code",
   "execution_count": 94,
   "metadata": {},
   "outputs": [
    {
     "data": {
      "text/plain": [
       "[2283, 42, 0, 428]"
      ]
     },
     "execution_count": 94,
     "metadata": {},
     "output_type": "execute_result"
    }
   ],
   "source": [
    "race"
   ]
  },
  {
   "cell_type": "code",
   "execution_count": 96,
   "metadata": {},
   "outputs": [
    {
     "data": {
      "text/plain": [
       "0.8292771521976026"
      ]
     },
     "execution_count": 96,
     "metadata": {},
     "output_type": "execute_result"
    }
   ],
   "source": [
    "float(race[0]) / sum(race)"
   ]
  },
  {
   "cell_type": "code",
   "execution_count": 98,
   "metadata": {},
   "outputs": [
    {
     "data": {
      "text/plain": [
       "5559"
      ]
     },
     "execution_count": 98,
     "metadata": {},
     "output_type": "execute_result"
    }
   ],
   "source": [
    "len(test_idx)"
   ]
  },
  {
   "cell_type": "code",
   "execution_count": 105,
   "metadata": {},
   "outputs": [],
   "source": [
    "race = [0, 0, 0, 0, 0]\n",
    "gender = [0, 0]"
   ]
  },
  {
   "cell_type": "code",
   "execution_count": 106,
   "metadata": {},
   "outputs": [
    {
     "name": "stdout",
     "output_type": "stream",
     "text": [
      "[1078, 640, 323, 530, 182]\n"
     ]
    }
   ],
   "source": [
    "for idx in test_idx[:2753]:\n",
    "    rec = df.iloc[idx]\n",
    "    #print(rec['race_id'])\n",
    "    gender[rec['gender_id']] += 1\n",
    "    race[rec['race_id']] += 1\n",
    "print(race)"
   ]
  },
  {
   "cell_type": "code",
   "execution_count": 104,
   "metadata": {},
   "outputs": [
    {
     "data": {
      "text/plain": [
       "0.3915728296403923"
      ]
     },
     "execution_count": 104,
     "metadata": {},
     "output_type": "execute_result"
    }
   ],
   "source": [
    "float(race[0]) / sum(race)"
   ]
  },
  {
   "cell_type": "code",
   "execution_count": 108,
   "metadata": {},
   "outputs": [
    {
     "data": {
      "text/plain": [
       "[1455, 1298]"
      ]
     },
     "execution_count": 108,
     "metadata": {},
     "output_type": "execute_result"
    }
   ],
   "source": [
    "gender"
   ]
  },
  {
   "cell_type": "code",
   "execution_count": 107,
   "metadata": {},
   "outputs": [
    {
     "data": {
      "text/plain": [
       "0.5285143479840174"
      ]
     },
     "execution_count": 107,
     "metadata": {},
     "output_type": "execute_result"
    }
   ],
   "source": [
    "float(gender[0]) / sum(gender)"
   ]
  },
  {
   "cell_type": "code",
   "execution_count": 66,
   "metadata": {},
   "outputs": [],
   "source": [
    "save_all_adv_samples(test_gen, eps=0.2)"
   ]
  },
  {
   "cell_type": "markdown",
   "metadata": {},
   "source": [
    "## Evaluate clean model"
   ]
  },
  {
   "cell_type": "code",
   "execution_count": 24,
   "metadata": {},
   "outputs": [],
   "source": [
    "def get_adv_data_generator(df, indices, eps, for_training=False, batch_size=128):\n",
    "    images, ages, races, genders = [], [], [], []\n",
    "    folder = \"adv_generated_imgs_pgd\"\n",
    "    while True:\n",
    "        for i in indices:\n",
    "            r = df.iloc[i]\n",
    "            file, age, race, gender = r['file'], r['age'], r['race_id'], r['gender_id']\n",
    "            filename = \"{}/{}/{}/{}\".format(file.split(\"/\")[0], folder, str(eps), file.split(\"/\")[-1])\n",
    "            #if os.path.exists(filename):\n",
    "            im = Image.open(filename)\n",
    "            im = im.resize((IM_WIDTH, IM_HEIGHT))\n",
    "            im = np.array(im) / 255.0\n",
    "            images.append(im)\n",
    "            ages.append(age / max_age)\n",
    "            races.append(to_categorical(race, len(RACE_ID_MAP)))\n",
    "            genders.append(to_categorical(gender, 2))\n",
    "            if len(images) >= batch_size:\n",
    "                #print(\"yielded\")\n",
    "                yield np.array(images), [np.array(ages), np.array(races), np.array(genders)]\n",
    "                images, ages, races, genders = [], [], [], []\n",
    "        if not for_training:\n",
    "            break"
   ]
  },
  {
   "cell_type": "code",
   "execution_count": null,
   "metadata": {},
   "outputs": [],
   "source": [
    "# create a pandas data frame of images, age, gender and race\n",
    "ADV_DATA_DIR = \"./data/adv_generated_imgs_pgd/0.2/\"\n",
    "files = glob.glob(os.path.join(ADV_DATA_DIR, \"*.jpg\"))\n",
    "attributes = list(map(parse_filepath, files))\n",
    "\n",
    "df = pd.DataFrame(attributes)\n",
    "df['file'] = files\n",
    "df.columns = ['age', 'gender', 'race', 'file']\n",
    "df = df.dropna()\n",
    "df = df[(df['age'] > 10) & (df['age'] < 65)]\n",
    "#df.head()\n",
    "\n",
    "# random seed is not common with model training on the other notebook\n",
    "test_idx = np.random.permutation(len(df))\n",
    "#train_up_to = int(len(df) * TRAIN_TEST_SPLIT)\n",
    "#test_idx = p[train_up_to:]\n",
    "\n",
    "df['gender_id'] = df['gender'].map(lambda gender: GENDER_ID_MAP[gender])\n",
    "df['race_id'] = df['race'].map(lambda race: RACE_ID_MAP[race])\n",
    "\n",
    "max_age = df['age'].max()\n",
    "\n",
    "#test_gen = get_data_generator(df, test_idx, for_training=False, batch_size=32)"
   ]
  },
  {
   "cell_type": "code",
   "execution_count": null,
   "metadata": {},
   "outputs": [],
   "source": []
  },
  {
   "cell_type": "code",
   "execution_count": null,
   "metadata": {},
   "outputs": [],
   "source": [
    "# load clean model\n",
    "model_path = \"./models/weighted_forked_VGG_model.h5\"\n",
    "model = load_model(model_path)"
   ]
  },
  {
   "cell_type": "code",
   "execution_count": 21,
   "metadata": {
    "scrolled": true
   },
   "outputs": [
    {
     "data": {
      "text/plain": [
       "{u'age_output_loss': 0.011946349404752254,\n",
       " u'age_output_mae': 0.0805635079741478,\n",
       " u'gender_output_accuracy': 0.976017415523529,\n",
       " u'gender_output_loss': 0.12335702776908875,\n",
       " 'loss': 0.6523380279541016,\n",
       " u'race_output_accuracy': 0.8800871968269348,\n",
       " u'race_output_loss': 0.5985112190246582}"
      ]
     },
     "execution_count": 21,
     "metadata": {},
     "output_type": "execute_result"
    }
   ],
   "source": [
    "# eps = 0\n",
    "# test_gen = get_data_generator(df, test_idx, for_training=False, batch_size=128)\n",
    "dict(zip(model.metrics_names, model.evaluate_generator(test_gen, steps=len(test_idx)//128)))"
   ]
  },
  {
   "cell_type": "markdown",
   "metadata": {},
   "source": [
    "## Evaluation of VGG16 Model"
   ]
  },
  {
   "cell_type": "code",
   "execution_count": 43,
   "metadata": {},
   "outputs": [
    {
     "data": {
      "text/plain": [
       "{u'age_output_loss': 0.0446450412273407,\n",
       " u'age_output_mae': 0.15803809463977814,\n",
       " u'gender_output_accuracy': 0.9980014562606812,\n",
       " u'gender_output_loss': 0.03714361414313316,\n",
       " 'loss': 1463.7095947265625,\n",
       " u'race_output_accuracy': 0.0,\n",
       " u'race_output_loss': 1486.427734375}"
      ]
     },
     "execution_count": 43,
     "metadata": {},
     "output_type": "execute_result"
    }
   ],
   "source": [
    "eps = 0.2\n",
    "test_gen = get_adv_data_generator(df, test_idx, eps, for_training=False, batch_size=128)\n",
    "dict(zip(model.metrics_names, model.evaluate_generator(test_gen, steps=len(test_idx)//128)))"
   ]
  },
  {
   "cell_type": "code",
   "execution_count": null,
   "metadata": {},
   "outputs": [],
   "source": []
  },
  {
   "cell_type": "markdown",
   "metadata": {},
   "source": [
    "## Evaluation of ResNet50 Model"
   ]
  },
  {
   "cell_type": "code",
   "execution_count": 44,
   "metadata": {},
   "outputs": [],
   "source": [
    "# load clean model\n",
    "model_path = \"./models/resnet50_model.h5\"\n",
    "model = load_model(model_path)"
   ]
  },
  {
   "cell_type": "code",
   "execution_count": 45,
   "metadata": {},
   "outputs": [
    {
     "data": {
      "text/plain": [
       "{u'age_output_loss': 0.10832329839468002,\n",
       " u'age_output_mae': 0.2706315815448761,\n",
       " u'gender_output_accuracy': 0.5268895626068115,\n",
       " u'gender_output_loss': 7.587944030761719,\n",
       " 'loss': 19.445199966430664,\n",
       " u'race_output_accuracy': 0.39662063121795654,\n",
       " u'race_output_loss': 13.472764015197754}"
      ]
     },
     "execution_count": 45,
     "metadata": {},
     "output_type": "execute_result"
    }
   ],
   "source": [
    "#eps = 0.2\n",
    "test_gen = get_adv_data_generator(df, test_idx, eps, for_training=False, batch_size=128)\n",
    "dict(zip(model.metrics_names, model.evaluate_generator(test_gen, steps=len(test_idx)//128)))"
   ]
  },
  {
   "cell_type": "code",
   "execution_count": 46,
   "metadata": {},
   "outputs": [],
   "source": [
    "# load clean model\n",
    "model_path = \"./models/mobilenet_model.h5\"\n",
    "model = load_model(model_path)"
   ]
  },
  {
   "cell_type": "code",
   "execution_count": 47,
   "metadata": {},
   "outputs": [
    {
     "data": {
      "text/plain": [
       "{u'age_output_loss': 0.04689286649227142,\n",
       " u'age_output_mae': 0.1844833493232727,\n",
       " u'gender_output_accuracy': 0.4505814015865326,\n",
       " u'gender_output_loss': 1.069699764251709,\n",
       " 'loss': 6.1234564781188965,\n",
       " u'race_output_accuracy': 0.39643895626068115,\n",
       " u'race_output_loss': 4.847633361816406}"
      ]
     },
     "execution_count": 47,
     "metadata": {},
     "output_type": "execute_result"
    }
   ],
   "source": [
    "test_gen = get_adv_data_generator(df, test_idx, eps, for_training=False, batch_size=128)\n",
    "dict(zip(model.metrics_names, model.evaluate_generator(test_gen, steps=len(test_idx)//128)))"
   ]
  },
  {
   "cell_type": "markdown",
   "metadata": {},
   "source": [
    "## Evaluation of MobileNet Model"
   ]
  },
  {
   "cell_type": "code",
   "execution_count": 30,
   "metadata": {},
   "outputs": [],
   "source": [
    "# load clean model\n",
    "model_path = \"./models/mobilenet_model.h5\"\n",
    "model = load_model(model_path)"
   ]
  },
  {
   "cell_type": "code",
   "execution_count": 31,
   "metadata": {},
   "outputs": [
    {
     "data": {
      "text/plain": [
       "{u'age_output_loss': 0.04766557365655899,\n",
       " u'age_output_mae': 0.18656139075756073,\n",
       " u'gender_output_accuracy': 0.4596656858921051,\n",
       " u'gender_output_loss': 1.053579568862915,\n",
       " 'loss': 6.033567428588867,\n",
       " u'race_output_accuracy': 0.39662063121795654,\n",
       " u'race_output_loss': 4.8335862159729}"
      ]
     },
     "execution_count": 31,
     "metadata": {},
     "output_type": "execute_result"
    }
   ],
   "source": [
    "test_gen = get_adv_data_generator(df, test_idx, eps, for_training=False, batch_size=128)\n",
    "dict(zip(model.metrics_names, model.evaluate_generator(test_gen, steps=len(test_idx)//128)))"
   ]
  },
  {
   "cell_type": "markdown",
   "metadata": {},
   "source": [
    "## Evaluation of VGG19 Model"
   ]
  },
  {
   "cell_type": "code",
   "execution_count": 48,
   "metadata": {},
   "outputs": [],
   "source": [
    "# load clean model\n",
    "model_path = \"./models/vgg19_model.h5\"\n",
    "model = load_model(model_path)"
   ]
  },
  {
   "cell_type": "code",
   "execution_count": 49,
   "metadata": {},
   "outputs": [
    {
     "data": {
      "text/plain": [
       "{u'age_output_loss': 0.06575646996498108,\n",
       " u'age_output_mae': 0.207205668091774,\n",
       " u'gender_output_accuracy': 0.5401526093482971,\n",
       " u'gender_output_loss': 1.6036206483840942,\n",
       " 'loss': 5.338807582855225,\n",
       " u'race_output_accuracy': 0.3088662922382355,\n",
       " u'race_output_loss': 3.3931243419647217}"
      ]
     },
     "execution_count": 49,
     "metadata": {},
     "output_type": "execute_result"
    }
   ],
   "source": [
    "test_gen = get_adv_data_generator(df, test_idx, eps, for_training=False, batch_size=128)\n",
    "dict(zip(model.metrics_names, model.evaluate_generator(test_gen, steps=len(test_idx)//128)))"
   ]
  },
  {
   "cell_type": "code",
   "execution_count": null,
   "metadata": {},
   "outputs": [],
   "source": [
    "eps = 2\n",
    "test_gen = get_adv_data_generator(df, test_idx, eps, for_training=False, batch_size=128)\n",
    "dict(zip(model.metrics_names, model.evaluate_generator(test_gen, steps=len(test_idx)//128)))"
   ]
  },
  {
   "cell_type": "code",
   "execution_count": null,
   "metadata": {},
   "outputs": [],
   "source": [
    "eps = 3\n",
    "test_gen = get_adv_data_generator(df, test_idx, eps, for_training=False, batch_size=128)\n",
    "dict(zip(model.metrics_names, model.evaluate_generator(test_gen, steps=len(test_idx)//128)))"
   ]
  },
  {
   "cell_type": "code",
   "execution_count": null,
   "metadata": {},
   "outputs": [],
   "source": [
    "eps = 4\n",
    "test_gen = get_adv_data_generator(df, test_idx, eps, for_training=False, batch_size=128)\n",
    "dict(zip(model.metrics_names, model.evaluate_generator(test_gen, steps=len(test_idx)//128)))"
   ]
  },
  {
   "cell_type": "code",
   "execution_count": null,
   "metadata": {},
   "outputs": [],
   "source": [
    "eps = 5\n",
    "test_gen = get_adv_data_generator(df, test_idx, eps, for_training=False, batch_size=128)\n",
    "dict(zip(model.metrics_names, model.evaluate_generator(test_gen, steps=len(test_idx)//128)))"
   ]
  },
  {
   "cell_type": "code",
   "execution_count": null,
   "metadata": {},
   "outputs": [],
   "source": [
    "#print(df[(df.gender == 'female') & (df.race == 'black')].file)# and race == black']"
   ]
  },
  {
   "cell_type": "code",
   "execution_count": null,
   "metadata": {},
   "outputs": [],
   "source": []
  }
 ],
 "metadata": {
  "kernelspec": {
   "display_name": "Python 2",
   "language": "python",
   "name": "python2"
  },
  "language_info": {
   "codemirror_mode": {
    "name": "ipython",
    "version": 2
   },
   "file_extension": ".py",
   "mimetype": "text/x-python",
   "name": "python",
   "nbconvert_exporter": "python",
   "pygments_lexer": "ipython2",
   "version": "2.7.15+"
  }
 },
 "nbformat": 4,
 "nbformat_minor": 2
}
